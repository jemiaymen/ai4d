{
 "cells": [
  {
   "cell_type": "code",
   "execution_count": null,
   "metadata": {},
   "outputs": [],
   "source": [
    "#!pip install -r requirements.txt"
   ]
  },
  {
   "cell_type": "markdown",
   "metadata": {},
   "source": [
    "this cell to run on gpu using jupyter"
   ]
  },
  {
   "cell_type": "code",
   "execution_count": 1,
   "metadata": {},
   "outputs": [],
   "source": [
    "import tensorflow as tf\n",
    "physical_devices = tf.config.list_physical_devices('GPU')\n",
    "tf.config.experimental.set_memory_growth(physical_devices[0], enable=True)"
   ]
  },
  {
   "cell_type": "code",
   "execution_count": 2,
   "metadata": {},
   "outputs": [
    {
     "output_type": "stream",
     "name": "stderr",
     "text": [
      "Using TensorFlow backend.\n",
      "Change label format for fasttext: 100%|██████████| 70000/70000 [00:00<00:00, 666649.89it/s]\n",
      "Cleaning dataset from noise : 100%|██████████| 70000/70000 [00:01<00:00, 57471.39it/s]\n",
      "-------------------------------------------------\n",
      "-------------------------------------------------\n",
      "                                                       0\n",
      "68714          __label__pos allah  yarhmou  w  yenna3mou\n",
      "6211   __label__neg chneya  hak  ma7kit  chay  3ala  ...\n",
      "37759                __label__neu hanen  el  ayeb  tfarj\n",
      "3813   __label__neg allah  ywaf9ak  lima  yordhih  wa...\n",
      "61373  __label__neg wa9ef  club  africain  3ala  sa9e...\n",
      "59417       __label__neg hhhhh  kili  hiya  miche  5amja\n",
      "25205  __label__pos bravo  hedha  ech  eajetna  fi  t...\n",
      "11062  __label__pos isbe7  ilwared  ya  ma3lem  rak  ...\n",
      "62494                  __label__neg blidaa  kalem  iness\n",
      "39566  __label__pos slouma  ya  m3alam  rabi  m3ak  n...\n",
      "-------------------------------------------------\n",
      "-------------------------------------------------\n",
      "                                                       0\n",
      "56936  __label__neg inti  ya  mariem  hasba  rouhik  ...\n",
      "54097  __label__neg a3bed  ta7ki  fadh  el  kes  w  m...\n",
      "19043   __label__neg hhhh  wlhi  netfarej  bech  na7dhek\n",
      "30704  __label__neg et  enfin  pfffffffffffffffffffff...\n",
      "13706  __label__neg fechel  fechel  w  kol  clip  afc...\n",
      "52120                         __label__neg blehi  ta7lil\n",
      "62298  __label__neg hhhhhhhhhhhh  soltaaa  lichaaab  ...\n",
      "65540  __label__pos kol  3am  winti  b5ir  ya  si  sl...\n",
      "67043  __label__neg a7na  3am  kamel  ma3melna  chay ...\n",
      "46602               __label__neg hata  club  faha  irhab\n"
     ]
    }
   ],
   "source": [
    "from transformer import TransformerClassifier\n",
    "t = TransformerClassifier()"
   ]
  },
  {
   "cell_type": "code",
   "execution_count": 3,
   "metadata": {},
   "outputs": [
    {
     "output_type": "execute_result",
     "data": {
      "text/plain": [
       "(14000, 0.7795, 0.7795)"
      ]
     },
     "metadata": {},
     "execution_count": 3
    }
   ],
   "source": [
    "s.model.test('fast.valid')"
   ]
  },
  {
   "cell_type": "code",
   "execution_count": 4,
   "metadata": {},
   "outputs": [
    {
     "output_type": "stream",
     "name": "stderr",
     "text": [
      "Cleaning dataset from noise : 100%|██████████| 30000/30000 [00:00<00:00, 55453.34it/s]\n",
      "Predict submission ... : 100%|██████████| 30000/30000 [00:00<00:00, 49341.87it/s]\n"
     ]
    }
   ],
   "source": [
    "s.create_submission('Test.csv')"
   ]
  },
  {
   "cell_type": "code",
   "execution_count": null,
   "metadata": {},
   "outputs": [],
   "source": [
    "s.model.predict(['wa7id','thnine'])"
   ]
  }
 ],
 "metadata": {
  "kernelspec": {
   "display_name": "Python 3",
   "language": "python",
   "name": "python3"
  },
  "language_info": {
   "codemirror_mode": {
    "name": "ipython",
    "version": 3
   },
   "file_extension": ".py",
   "mimetype": "text/x-python",
   "name": "python",
   "nbconvert_exporter": "python",
   "pygments_lexer": "ipython3",
   "version": "3.7.6-final"
  }
 },
 "nbformat": 4,
 "nbformat_minor": 2
}