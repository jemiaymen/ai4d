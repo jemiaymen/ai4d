{
 "cells": [
  {
   "cell_type": "code",
   "execution_count": null,
   "metadata": {},
   "outputs": [],
   "source": [
    "#!pip install -r requirements.txt"
   ]
  },
  {
   "cell_type": "markdown",
   "metadata": {},
   "source": [
    "this cell to run on gpu using jupyter"
   ]
  },
  {
   "cell_type": "code",
   "execution_count": null,
   "metadata": {},
   "outputs": [],
   "source": [
    "import tensorflow as tf\n",
    "physical_devices = tf.config.list_physical_devices('GPU')\n",
    "tf.config.experimental.set_memory_growth(physical_devices[0], enable=True)"
   ]
  },
  {
   "cell_type": "code",
   "execution_count": 2,
   "metadata": {},
   "outputs": [
    {
     "output_type": "stream",
     "name": "stderr",
     "text": [
      "Cleaning dataset from noise : 100%|██████████| 70000/70000 [00:00<00:00, 99571.93it/s] \n",
      "Create input chars: 100%|██████████| 3/3 [00:00<00:00, 119.80it/s]-------------------------------------------------\n",
      "-------------------------------------------------\n",
      "shape of data : 3sbaaaaaaaaaaaaaaaaaaaa lek ou le seim riahi ou 3sbaaaaaaaaaaaaaaaaaaaaaaaaaaa le ca\n",
      "-------------------------------------------------\n",
      "-------------------------------------------------\n",
      "ID\n",
      "13P0QT0    3sbaaaaaaaaaaaaaaaaaaaa lek ou le seim riahi o...\n",
      "SKCLXCJ         cha3eb fey9elkoum menghir ta7ayoul ou kressi\n",
      "V1TVXIJ    bereau degage nathef ya slim walahi ya7chiw fi...\n",
      "U0TTYY8                                            ak slouma\n",
      "68DX797    entom titmanou lina a7na 3iid moubarik a7na ch...\n",
      "OSTX8NX    hhhhhhhh blidaa minik ba3d doussieet athika il...\n",
      "I1JT3SJ                                      wahdek big boss\n",
      "54FC0NS      9arwwwwii yhbb 3alaa bouwahh la7niynn 5hndhawii\n",
      "0NF40PI    ti blaad faasda ya hsouna hedheka el wa9a3 b a...\n",
      "2ZB3IIF                               3omra ma9boula si slim\n",
      "Name: text, dtype: object\n",
      "-------------------------------------------------\n",
      "-------------------------------------------------\n",
      "         -1   0   1\n",
      "ID                 \n",
      "13P0QT0   1   0   0\n",
      "SKCLXCJ   1   0   0\n",
      "V1TVXIJ   1   0   0\n",
      "U0TTYY8   0   0   1\n",
      "68DX797   1   0   0\n",
      "OSTX8NX   0   0   1\n",
      "I1JT3SJ   0   0   1\n",
      "54FC0NS   1   0   0\n",
      "0NF40PI   1   0   0\n",
      "2ZB3IIF   0   0   1\n",
      "-------------------------------------------------\n",
      "-------------------------------------------------\n",
      "{0, 1}\n",
      "\n"
     ]
    }
   ],
   "source": [
    "from model import Solution\n",
    "s = Solution()"
   ]
  },
  {
   "cell_type": "code",
   "execution_count": 5,
   "metadata": {},
   "outputs": [
    {
     "output_type": "execute_result",
     "data": {
      "text/plain": [
       "'3sbaaaaaaaaaaaaaaaaaaaa lek ou le seim riahi ou 3sbaaaaaaaaaaaaaaaaaaaaaaaaaaa le ca'"
      ]
     },
     "metadata": {},
     "execution_count": 5
    }
   ],
   "source": [
    "s.x['13P0QT0']"
   ]
  },
  {
   "cell_type": "code",
   "execution_count": null,
   "metadata": {},
   "outputs": [],
   "source": []
  }
 ],
 "metadata": {
  "kernelspec": {
   "display_name": "Python 3",
   "language": "python",
   "name": "python3"
  },
  "language_info": {
   "codemirror_mode": {
    "name": "ipython",
    "version": 3
   },
   "file_extension": ".py",
   "mimetype": "text/x-python",
   "name": "python",
   "nbconvert_exporter": "python",
   "pygments_lexer": "ipython3",
   "version": "3.7.6-final"
  }
 },
 "nbformat": 4,
 "nbformat_minor": 2
}